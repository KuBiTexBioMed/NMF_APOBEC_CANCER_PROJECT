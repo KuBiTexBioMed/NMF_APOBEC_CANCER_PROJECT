{
 "cells": [
  {
   "cell_type": "code",
   "execution_count": 1,
   "metadata": {},
   "outputs": [],
   "source": [
    "import pandas as pd\n",
    "import glob"
   ]
  },
  {
   "cell_type": "code",
   "execution_count": 2,
   "metadata": {},
   "outputs": [],
   "source": [
    "# APOBEC3A/B/C/D/F/G/H \n",
    "ensg_ids = [\"ENSG00000128383\", \"ENSG00000179750\", \"ENSG00000244509\", \"ENSG00000243811\", \"ENSG00000128394\", \"ENSG00000239713\", \"ENSG00000100298\"]"
   ]
  },
  {
   "cell_type": "code",
   "execution_count": 6,
   "metadata": {
    "scrolled": true
   },
   "outputs": [
    {
     "name": "stdout",
     "output_type": "stream",
     "text": [
      "../GeneExp\\Adrenal_Gland.csv\n",
      "Adrenal_Gland\n",
      "../GeneExp\\Bile_Duct.csv\n",
      "Bile_Duct\n",
      "../GeneExp\\Bladder.csv\n",
      "Bladder\n",
      "../GeneExp\\Blood.csv\n",
      "Blood\n",
      "../GeneExp\\Bone.csv\n",
      "Bone\n",
      "../GeneExp\\Bone_Marrow.csv\n",
      "Bone_Marrow\n",
      "../GeneExp\\Brain.csv\n",
      "Brain\n",
      "../GeneExp\\Breast.csv\n",
      "Breast\n",
      "../GeneExp\\Cervix.csv\n",
      "Cervix\n",
      "../GeneExp\\Colorectal.csv\n",
      "Colorectal\n",
      "../GeneExp\\Esophagus.csv\n",
      "Esophagus\n",
      "../GeneExp\\Eye.csv\n",
      "Eye\n",
      "../GeneExp\\Head_and_neck.csv\n",
      "Head_and_neck\n",
      "../GeneExp\\Kidney.csv\n",
      "Kidney\n",
      "../GeneExp\\Liver.csv\n",
      "Liver\n",
      "../GeneExp\\Lung.csv\n",
      "Lung\n",
      "../GeneExp\\Lymph_Node.csv\n",
      "Lymph_Node\n",
      "../GeneExp\\Nervous_System.csv\n",
      "Nervous_System\n",
      "../GeneExp\\Ovary.csv\n",
      "Ovary\n",
      "../GeneExp\\Pancreas.csv\n",
      "Pancreas\n",
      "../GeneExp\\Pleura.csv\n",
      "Pleura\n",
      "../GeneExp\\Prostate.csv\n",
      "Prostate\n",
      "../GeneExp\\Skin.csv\n",
      "Skin\n",
      "../GeneExp\\Soft_Tissue.csv\n",
      "Soft_Tissue\n",
      "../GeneExp\\Stomach.csv\n",
      "Stomach\n",
      "../GeneExp\\Testis.csv\n",
      "Testis\n",
      "../GeneExp\\Thymus.csv\n",
      "Thymus\n",
      "../GeneExp\\Thyroid.csv\n",
      "Thyroid\n",
      "../GeneExp\\Uterus.csv\n",
      "Uterus\n"
     ]
    }
   ],
   "source": [
    "for ef in glob.glob(\"../GeneExp/*.csv\"):\n",
    "    print(ef)\n",
    "    print(ef.split('\\\\')[-1].split('.')[0])"
   ]
  },
  {
   "cell_type": "code",
   "execution_count": 8,
   "metadata": {},
   "outputs": [],
   "source": [
    "tmp_df = pd.read_csv('../GeneExp\\Bile_Duct.csv')"
   ]
  },
  {
   "cell_type": "code",
   "execution_count": 9,
   "metadata": {},
   "outputs": [
    {
     "data": {
      "text/html": [
       "<div>\n",
       "<style scoped>\n",
       "    .dataframe tbody tr th:only-of-type {\n",
       "        vertical-align: middle;\n",
       "    }\n",
       "\n",
       "    .dataframe tbody tr th {\n",
       "        vertical-align: top;\n",
       "    }\n",
       "\n",
       "    .dataframe thead th {\n",
       "        text-align: right;\n",
       "    }\n",
       "</style>\n",
       "<table border=\"1\" class=\"dataframe\">\n",
       "  <thead>\n",
       "    <tr style=\"text-align: right;\">\n",
       "      <th></th>\n",
       "      <th>GeneNames</th>\n",
       "      <th>TCGA-YR-A95A-01A-12R-A41I-07-tumor</th>\n",
       "      <th>TCGA-W5-AA2X-11A-11R-A41I-07-healthy</th>\n",
       "      <th>TCGA-W5-AA2X-01A-11R-A41I-07-tumor</th>\n",
       "    </tr>\n",
       "  </thead>\n",
       "  <tbody>\n",
       "    <tr>\n",
       "      <th>0</th>\n",
       "      <td>ENSG00000242268.2</td>\n",
       "      <td>0.000000</td>\n",
       "      <td>0.036803</td>\n",
       "      <td>0.000000</td>\n",
       "    </tr>\n",
       "    <tr>\n",
       "      <th>1</th>\n",
       "      <td>ENSG00000270112.3</td>\n",
       "      <td>0.000000</td>\n",
       "      <td>0.000000</td>\n",
       "      <td>0.000000</td>\n",
       "    </tr>\n",
       "    <tr>\n",
       "      <th>2</th>\n",
       "      <td>ENSG00000167578.15</td>\n",
       "      <td>2.369665</td>\n",
       "      <td>1.758840</td>\n",
       "      <td>3.340549</td>\n",
       "    </tr>\n",
       "    <tr>\n",
       "      <th>3</th>\n",
       "      <td>ENSG00000273842.1</td>\n",
       "      <td>0.000000</td>\n",
       "      <td>0.000000</td>\n",
       "      <td>0.000000</td>\n",
       "    </tr>\n",
       "    <tr>\n",
       "      <th>4</th>\n",
       "      <td>ENSG00000078237.5</td>\n",
       "      <td>2.851645</td>\n",
       "      <td>1.849786</td>\n",
       "      <td>6.345193</td>\n",
       "    </tr>\n",
       "  </tbody>\n",
       "</table>\n",
       "</div>"
      ],
      "text/plain": [
       "            GeneNames  TCGA-YR-A95A-01A-12R-A41I-07-tumor  \\\n",
       "0   ENSG00000242268.2                            0.000000   \n",
       "1   ENSG00000270112.3                            0.000000   \n",
       "2  ENSG00000167578.15                            2.369665   \n",
       "3   ENSG00000273842.1                            0.000000   \n",
       "4   ENSG00000078237.5                            2.851645   \n",
       "\n",
       "   TCGA-W5-AA2X-11A-11R-A41I-07-healthy  TCGA-W5-AA2X-01A-11R-A41I-07-tumor  \n",
       "0                              0.036803                            0.000000  \n",
       "1                              0.000000                            0.000000  \n",
       "2                              1.758840                            3.340549  \n",
       "3                              0.000000                            0.000000  \n",
       "4                              1.849786                            6.345193  "
      ]
     },
     "execution_count": 9,
     "metadata": {},
     "output_type": "execute_result"
    }
   ],
   "source": [
    "tmp_df.head()"
   ]
  },
  {
   "cell_type": "code",
   "execution_count": 19,
   "metadata": {},
   "outputs": [],
   "source": [
    "# result dataframe\n",
    "rlt_df = pd.DataFrame()\n",
    "\n",
    "for ef in glob.glob(\"../GeneExp/*.csv\"):\n",
    "    tmp_df = pd.read_csv(ef)\n",
    "    name = ef.split('\\\\')[-1].split('.')[0]\n",
    "    # temperary dataframe\n",
    "    tmp_rlt_df = pd.DataFrame()\n",
    "    # looking for the genename and the row containiig ensemble ID\n",
    "    for each_ensg_id in ensg_ids:\n",
    "        s_temp_df = tmp_df[tmp_df['GeneNames'].str.contains(each_ensg_id)].set_index('GeneNames')\n",
    "        \n",
    "        tmp_rlt_df = tmp_rlt_df.append(s_temp_df)\n",
    "    # we transpose them to combine the data from different tissues together from the differnt files\n",
    "    tmp_rlt_df = tmp_rlt_df.T\n",
    "    \n",
    "    # made a new column to identify the name of the tissue\n",
    "    tmp_rlt_df['tissue'] = name\n",
    "    \n",
    "    rlt_df = rlt_df.append(tmp_rlt_df)"
   ]
  },
  {
   "cell_type": "code",
   "execution_count": 20,
   "metadata": {},
   "outputs": [],
   "source": [
    "# changes the name of the index\n",
    "\n",
    "rlt_df.index.names = ['Sample']"
   ]
  },
  {
   "cell_type": "code",
   "execution_count": 21,
   "metadata": {},
   "outputs": [
    {
     "data": {
      "text/html": [
       "<div>\n",
       "<style scoped>\n",
       "    .dataframe tbody tr th:only-of-type {\n",
       "        vertical-align: middle;\n",
       "    }\n",
       "\n",
       "    .dataframe tbody tr th {\n",
       "        vertical-align: top;\n",
       "    }\n",
       "\n",
       "    .dataframe thead th {\n",
       "        text-align: right;\n",
       "    }\n",
       "</style>\n",
       "<table border=\"1\" class=\"dataframe\">\n",
       "  <thead>\n",
       "    <tr style=\"text-align: right;\">\n",
       "      <th>GeneNames</th>\n",
       "      <th>ENSG00000128383.11</th>\n",
       "      <th>ENSG00000179750.14</th>\n",
       "      <th>ENSG00000244509.3</th>\n",
       "      <th>ENSG00000243811.6</th>\n",
       "      <th>ENSG00000128394.15</th>\n",
       "      <th>ENSG00000239713.6</th>\n",
       "      <th>ENSG00000100298.14</th>\n",
       "      <th>tissue</th>\n",
       "    </tr>\n",
       "    <tr>\n",
       "      <th>Sample</th>\n",
       "      <th></th>\n",
       "      <th></th>\n",
       "      <th></th>\n",
       "      <th></th>\n",
       "      <th></th>\n",
       "      <th></th>\n",
       "      <th></th>\n",
       "      <th></th>\n",
       "    </tr>\n",
       "  </thead>\n",
       "  <tbody>\n",
       "    <tr>\n",
       "      <th>TCGA-TT-A6YO-01A-11R-A35L-07-tumor</th>\n",
       "      <td>0.044801</td>\n",
       "      <td>0.473602</td>\n",
       "      <td>24.376533</td>\n",
       "      <td>0.861317</td>\n",
       "      <td>1.865499</td>\n",
       "      <td>1.719039</td>\n",
       "      <td>0.274447</td>\n",
       "      <td>Adrenal_Gland</td>\n",
       "    </tr>\n",
       "    <tr>\n",
       "      <th>TCGA-RW-A684-01A-12R-A35K-07-tumor</th>\n",
       "      <td>0.064629</td>\n",
       "      <td>0.281322</td>\n",
       "      <td>16.886351</td>\n",
       "      <td>1.107792</td>\n",
       "      <td>2.103557</td>\n",
       "      <td>3.080618</td>\n",
       "      <td>0.045682</td>\n",
       "      <td>Adrenal_Gland</td>\n",
       "    </tr>\n",
       "    <tr>\n",
       "      <th>TCGA-S7-A7WV-01A-11R-A35L-07-tumor</th>\n",
       "      <td>2.119534</td>\n",
       "      <td>2.305250</td>\n",
       "      <td>15.907995</td>\n",
       "      <td>0.918429</td>\n",
       "      <td>1.770200</td>\n",
       "      <td>2.766520</td>\n",
       "      <td>0.455714</td>\n",
       "      <td>Adrenal_Gland</td>\n",
       "    </tr>\n",
       "    <tr>\n",
       "      <th>TCGA-QR-A6GU-01A-11R-A35K-07-tumor</th>\n",
       "      <td>0.153061</td>\n",
       "      <td>0.645099</td>\n",
       "      <td>10.815271</td>\n",
       "      <td>0.701192</td>\n",
       "      <td>1.812130</td>\n",
       "      <td>2.025682</td>\n",
       "      <td>0.048084</td>\n",
       "      <td>Adrenal_Gland</td>\n",
       "    </tr>\n",
       "    <tr>\n",
       "      <th>TCGA-OR-A5K3-01A-11R-A29S-07-tumor</th>\n",
       "      <td>0.148541</td>\n",
       "      <td>4.433668</td>\n",
       "      <td>24.647448</td>\n",
       "      <td>7.569464</td>\n",
       "      <td>0.529387</td>\n",
       "      <td>0.301837</td>\n",
       "      <td>0.083995</td>\n",
       "      <td>Adrenal_Gland</td>\n",
       "    </tr>\n",
       "  </tbody>\n",
       "</table>\n",
       "</div>"
      ],
      "text/plain": [
       "GeneNames                           ENSG00000128383.11  ENSG00000179750.14  \\\n",
       "Sample                                                                       \n",
       "TCGA-TT-A6YO-01A-11R-A35L-07-tumor            0.044801            0.473602   \n",
       "TCGA-RW-A684-01A-12R-A35K-07-tumor            0.064629            0.281322   \n",
       "TCGA-S7-A7WV-01A-11R-A35L-07-tumor            2.119534            2.305250   \n",
       "TCGA-QR-A6GU-01A-11R-A35K-07-tumor            0.153061            0.645099   \n",
       "TCGA-OR-A5K3-01A-11R-A29S-07-tumor            0.148541            4.433668   \n",
       "\n",
       "GeneNames                           ENSG00000244509.3  ENSG00000243811.6  \\\n",
       "Sample                                                                     \n",
       "TCGA-TT-A6YO-01A-11R-A35L-07-tumor          24.376533           0.861317   \n",
       "TCGA-RW-A684-01A-12R-A35K-07-tumor          16.886351           1.107792   \n",
       "TCGA-S7-A7WV-01A-11R-A35L-07-tumor          15.907995           0.918429   \n",
       "TCGA-QR-A6GU-01A-11R-A35K-07-tumor          10.815271           0.701192   \n",
       "TCGA-OR-A5K3-01A-11R-A29S-07-tumor          24.647448           7.569464   \n",
       "\n",
       "GeneNames                           ENSG00000128394.15  ENSG00000239713.6  \\\n",
       "Sample                                                                      \n",
       "TCGA-TT-A6YO-01A-11R-A35L-07-tumor            1.865499           1.719039   \n",
       "TCGA-RW-A684-01A-12R-A35K-07-tumor            2.103557           3.080618   \n",
       "TCGA-S7-A7WV-01A-11R-A35L-07-tumor            1.770200           2.766520   \n",
       "TCGA-QR-A6GU-01A-11R-A35K-07-tumor            1.812130           2.025682   \n",
       "TCGA-OR-A5K3-01A-11R-A29S-07-tumor            0.529387           0.301837   \n",
       "\n",
       "GeneNames                           ENSG00000100298.14         tissue  \n",
       "Sample                                                                 \n",
       "TCGA-TT-A6YO-01A-11R-A35L-07-tumor            0.274447  Adrenal_Gland  \n",
       "TCGA-RW-A684-01A-12R-A35K-07-tumor            0.045682  Adrenal_Gland  \n",
       "TCGA-S7-A7WV-01A-11R-A35L-07-tumor            0.455714  Adrenal_Gland  \n",
       "TCGA-QR-A6GU-01A-11R-A35K-07-tumor            0.048084  Adrenal_Gland  \n",
       "TCGA-OR-A5K3-01A-11R-A29S-07-tumor            0.083995  Adrenal_Gland  "
      ]
     },
     "execution_count": 21,
     "metadata": {},
     "output_type": "execute_result"
    }
   ],
   "source": [
    "rlt_df.head()"
   ]
  },
  {
   "cell_type": "code",
   "execution_count": 22,
   "metadata": {},
   "outputs": [
    {
     "data": {
      "text/plain": [
       "Index(['ENSG00000128383.11', 'ENSG00000179750.14', 'ENSG00000244509.3',\n",
       "       'ENSG00000243811.6', 'ENSG00000128394.15', 'ENSG00000239713.6',\n",
       "       'ENSG00000100298.14', 'tissue'],\n",
       "      dtype='object', name='GeneNames')"
      ]
     },
     "execution_count": 22,
     "metadata": {},
     "output_type": "execute_result"
    }
   ],
   "source": [
    "rlt_df.columns"
   ]
  },
  {
   "cell_type": "code",
   "execution_count": 23,
   "metadata": {},
   "outputs": [],
   "source": [
    "rlt_df = rlt_df.rename(columns={\"ENSG00000128383.11\" : \"APOBEC3A\",\n",
    "                       \"ENSG00000179750.14\" : \"APOBEC3B\",\n",
    "                       \"ENSG00000244509.3\" : \"APOBEC3C\",\n",
    "                       \"ENSG00000243811.6\" : \"APOBEC3D\",\n",
    "                       \"ENSG00000128394.15\" : \"APOBEC3F\",\n",
    "                       \"ENSG00000239713.6\" : \"APOBEC3G\",\n",
    "                       \"ENSG00000100298.14\" : \"APOBEC3H\"})"
   ]
  },
  {
   "cell_type": "code",
   "execution_count": 25,
   "metadata": {},
   "outputs": [],
   "source": [
    "rlt_df = rlt_df[['tissue', 'APOBEC3A', 'APOBEC3B', 'APOBEC3C', 'APOBEC3D', 'APOBEC3F', 'APOBEC3G',\n",
    "       'APOBEC3H']]"
   ]
  },
  {
   "cell_type": "code",
   "execution_count": 26,
   "metadata": {},
   "outputs": [
    {
     "data": {
      "text/plain": [
       "29"
      ]
     },
     "execution_count": 26,
     "metadata": {},
     "output_type": "execute_result"
    }
   ],
   "source": [
    "len(rlt_df['tissue'].value_counts())"
   ]
  },
  {
   "cell_type": "code",
   "execution_count": 27,
   "metadata": {},
   "outputs": [],
   "source": [
    "rlt_df.to_csv('APOBEC3_data.csv')"
   ]
  },
  {
   "cell_type": "code",
   "execution_count": null,
   "metadata": {},
   "outputs": [],
   "source": []
  }
 ],
 "metadata": {
  "kernelspec": {
   "display_name": "Python 3",
   "language": "python",
   "name": "python3"
  },
  "language_info": {
   "codemirror_mode": {
    "name": "ipython",
    "version": 3
   },
   "file_extension": ".py",
   "mimetype": "text/x-python",
   "name": "python",
   "nbconvert_exporter": "python",
   "pygments_lexer": "ipython3",
   "version": "3.6.5"
  }
 },
 "nbformat": 4,
 "nbformat_minor": 4
}
